{
 "cells": [
  {
   "cell_type": "markdown",
   "metadata": {},
   "source": [
    "### 基于CNN的MNIST手写数字识别example"
   ]
  },
  {
   "cell_type": "markdown",
   "metadata": {},
   "source": [
    "![framework](https://camo.githubusercontent.com/afc8cecd033ab300799ceb2bf3b593efa3bda2b7/687474703a2f2f706572736f6e616c2e69652e6375686b2e6564752e686b2f7e63636c6f792f70726f6a6563745f7461726765745f636f64652f696d616765732f666967332e706e67)"
   ]
  },
  {
   "cell_type": "code",
   "execution_count": 4,
   "metadata": {},
   "outputs": [
    {
     "name": "stdout",
     "output_type": "stream",
     "text": [
      "Extracting ../MNIST_data/train-images-idx3-ubyte.gz\n",
      "Extracting ../MNIST_data/train-labels-idx1-ubyte.gz\n",
      "Extracting ../MNIST_data/t10k-images-idx3-ubyte.gz\n",
      "Extracting ../MNIST_data/t10k-labels-idx1-ubyte.gz\n"
     ]
    }
   ],
   "source": [
    "import tensorflow as tf\n",
    "from tensorflow.examples.tutorials.mnist import input_data\n",
    "\n",
    "mnist = input_data.read_data_sets('../MNIST_data/', one_hot=True)"
   ]
  },
  {
   "cell_type": "code",
   "execution_count": 9,
   "metadata": {},
   "outputs": [],
   "source": [
    "import os"
   ]
  },
  {
   "cell_type": "code",
   "execution_count": 10,
   "metadata": {},
   "outputs": [],
   "source": [
    "os.environ['CUDA_VISIBLE_DEVICES']='0'"
   ]
  },
  {
   "cell_type": "code",
   "execution_count": 5,
   "metadata": {},
   "outputs": [],
   "source": [
    "# parameters\n",
    "learning_rate = 0.001\n",
    "num_steps = 500\n",
    "batch_size = 128\n",
    "display_step = 10"
   ]
  },
  {
   "cell_type": "code",
   "execution_count": 6,
   "metadata": {},
   "outputs": [],
   "source": [
    "num_input = 784\n",
    "num_classes = 10\n",
    "dropout = 0.75"
   ]
  },
  {
   "cell_type": "code",
   "execution_count": 7,
   "metadata": {},
   "outputs": [],
   "source": [
    "X = tf.placeholder(tf.float32, [None, num_input])\n",
    "Y = tf.placeholder(tf.float32, [None, num_classes])\n",
    "keep_prob = tf.placeholder(tf.float32)"
   ]
  },
  {
   "cell_type": "code",
   "execution_count": 13,
   "metadata": {},
   "outputs": [],
   "source": [
    "def conv2d(x, W, b, strides=1):\n",
    "    x = tf.nn.conv2d(x, W, strides=[1, strides, strides, 1], padding=\"SAME\")\n",
    "    x = tf.nn.bias_add(x, b)\n",
    "    return tf.nn.relu(x)"
   ]
  },
  {
   "cell_type": "code",
   "execution_count": 15,
   "metadata": {},
   "outputs": [],
   "source": [
    "def maxpool2d(x, k=2):\n",
    "    return tf.nn.max_pool(x, ksize=[1,k,k,1], strides=[1,k,k,1], padding=\"SAME\")"
   ]
  },
  {
   "cell_type": "code",
   "execution_count": 16,
   "metadata": {},
   "outputs": [],
   "source": [
    "def conv_net(x, weights, biases, dropout):\n",
    "    x = tf.reshape(x, shape=[-1, 28, 28, 1])\n",
    "    \n",
    "    conv1 = conv2d(x, weights['wc1'], biases['bc1'])\n",
    "    \n",
    "    conv1 = maxpool2d(conv1, k=2)\n",
    "    \n",
    "    conv2 = conv2d(conv1, weights['wc2'], biases['bc2'])\n",
    "    \n",
    "    conv2 = maxpool2d(conv2, k=2)\n",
    "    \n",
    "    fc1 = tf.reshape(conv2, [-1, weights['wd1'].get_shape().as_list()[0]])\n",
    "    \n",
    "    fc1 = tf.add(tf.matmul(fc1, weights['wd1']), biases['bd1'])\n",
    "    \n",
    "    fc1 = tf.nn.relu(fc1)\n",
    "    \n",
    "    fc1 = tf.nn.dropout(fc1, dropout)\n",
    "    \n",
    "    out = tf.add(tf.matmul(fc1, weights['out']), biases['out'])\n",
    "    \n",
    "    return out"
   ]
  },
  {
   "cell_type": "code",
   "execution_count": 18,
   "metadata": {},
   "outputs": [],
   "source": [
    "weights = {\n",
    "    'wc1': tf.Variable(tf.random_normal([5,5,1,32])),\n",
    "    'wc2': tf.Variable(tf.random_normal([5,5,32,64])),\n",
    "    'wd1': tf.Variable(tf.random_normal([7*7*64, 1024])),\n",
    "    'out': tf.Variable(tf.random_normal([1024, num_classes]))\n",
    "}"
   ]
  },
  {
   "cell_type": "code",
   "execution_count": 22,
   "metadata": {},
   "outputs": [],
   "source": [
    "biases = {\n",
    "    'bc1': tf.Variable(tf.random_normal([32])),\n",
    "    'bc2': tf.Variable(tf.random_normal([64])),\n",
    "    'bd1': tf.Variable(tf.random_normal([1024])),\n",
    "    'out': tf.Variable(tf.random_normal([num_classes]))\n",
    "}"
   ]
  },
  {
   "cell_type": "code",
   "execution_count": 23,
   "metadata": {},
   "outputs": [],
   "source": [
    "# Construct model\n",
    "logits = conv_net(X, weights, biases, keep_prob)\n",
    "prediction = tf.nn.softmax(logits)"
   ]
  },
  {
   "cell_type": "code",
   "execution_count": 30,
   "metadata": {},
   "outputs": [],
   "source": [
    "# loss_op = tf.reduce_mean(tf.nn.sparse_softmax_cross_entropy_with_logits(logits=logits, labels=tf.argmax(Y, 1)))\n",
    "loss_op = tf.reduce_mean(tf.nn.softmax_cross_entropy_with_logits(logits=logits, labels=Y))\n",
    "optimizer = tf.train.AdamOptimizer(learning_rate=learning_rate)\n",
    "train_op = optimizer.minimize(loss_op)"
   ]
  },
  {
   "cell_type": "code",
   "execution_count": 31,
   "metadata": {},
   "outputs": [],
   "source": [
    "corrected_pred = tf.equal(tf.argmax(prediction, 1), tf.argmax(Y, 1))\n",
    "accuracy = tf.reduce_mean(tf.cast(corrected_pred, tf.float32))\n",
    "\n",
    "init = tf.global_variables_initializer()"
   ]
  },
  {
   "cell_type": "code",
   "execution_count": 34,
   "metadata": {},
   "outputs": [
    {
     "name": "stdout",
     "output_type": "stream",
     "text": [
      "Step 1, Minibatch Loss= 79241.9844, Training Accuracy= 0.117\n",
      "Step 10, Minibatch Loss= 26921.6562, Training Accuracy= 0.234\n",
      "Step 20, Minibatch Loss= 8619.5146, Training Accuracy= 0.469\n",
      "Step 30, Minibatch Loss= 5994.6895, Training Accuracy= 0.641\n",
      "Step 40, Minibatch Loss= 3186.5356, Training Accuracy= 0.750\n",
      "Step 50, Minibatch Loss= 3672.5601, Training Accuracy= 0.781\n",
      "Step 60, Minibatch Loss= 2815.3110, Training Accuracy= 0.828\n",
      "Step 70, Minibatch Loss= 2217.8862, Training Accuracy= 0.852\n",
      "Step 80, Minibatch Loss= 1313.4218, Training Accuracy= 0.867\n",
      "Step 90, Minibatch Loss= 1799.4216, Training Accuracy= 0.875\n",
      "Step 100, Minibatch Loss= 2202.5249, Training Accuracy= 0.867\n",
      "Step 110, Minibatch Loss= 2464.4990, Training Accuracy= 0.867\n",
      "Step 120, Minibatch Loss= 1051.7372, Training Accuracy= 0.898\n",
      "Step 130, Minibatch Loss= 1100.5756, Training Accuracy= 0.906\n",
      "Step 140, Minibatch Loss= 1442.4780, Training Accuracy= 0.898\n",
      "Step 150, Minibatch Loss= 931.7564, Training Accuracy= 0.930\n",
      "Step 160, Minibatch Loss= 864.4419, Training Accuracy= 0.906\n",
      "Step 170, Minibatch Loss= 1585.5532, Training Accuracy= 0.898\n",
      "Step 180, Minibatch Loss= 1027.1390, Training Accuracy= 0.914\n",
      "Step 190, Minibatch Loss= 1343.1506, Training Accuracy= 0.898\n",
      "Step 200, Minibatch Loss= 183.0806, Training Accuracy= 0.938\n",
      "Step 210, Minibatch Loss= 965.0083, Training Accuracy= 0.930\n",
      "Step 220, Minibatch Loss= 1409.3810, Training Accuracy= 0.891\n",
      "Step 230, Minibatch Loss= 285.1271, Training Accuracy= 0.953\n",
      "Step 240, Minibatch Loss= 1168.4979, Training Accuracy= 0.914\n",
      "Step 250, Minibatch Loss= 1210.0005, Training Accuracy= 0.883\n",
      "Step 260, Minibatch Loss= 566.3414, Training Accuracy= 0.938\n",
      "Step 270, Minibatch Loss= 1197.6128, Training Accuracy= 0.906\n",
      "Step 280, Minibatch Loss= 1922.6545, Training Accuracy= 0.891\n",
      "Step 290, Minibatch Loss= 399.9597, Training Accuracy= 0.977\n",
      "Step 300, Minibatch Loss= 1179.4340, Training Accuracy= 0.930\n",
      "Step 310, Minibatch Loss= 846.7992, Training Accuracy= 0.938\n",
      "Step 320, Minibatch Loss= 418.2365, Training Accuracy= 0.953\n",
      "Step 330, Minibatch Loss= 956.3832, Training Accuracy= 0.938\n",
      "Step 340, Minibatch Loss= 641.0366, Training Accuracy= 0.938\n",
      "Step 350, Minibatch Loss= 1709.7998, Training Accuracy= 0.930\n",
      "Step 360, Minibatch Loss= 777.5905, Training Accuracy= 0.922\n",
      "Step 370, Minibatch Loss= 611.7239, Training Accuracy= 0.938\n",
      "Step 380, Minibatch Loss= 508.9803, Training Accuracy= 0.930\n",
      "Step 390, Minibatch Loss= 281.4482, Training Accuracy= 0.969\n",
      "Step 400, Minibatch Loss= 1201.5513, Training Accuracy= 0.914\n",
      "Step 410, Minibatch Loss= 1000.0850, Training Accuracy= 0.945\n",
      "Step 420, Minibatch Loss= 600.8512, Training Accuracy= 0.898\n",
      "Step 430, Minibatch Loss= 558.3784, Training Accuracy= 0.922\n",
      "Step 440, Minibatch Loss= 646.4320, Training Accuracy= 0.938\n",
      "Step 450, Minibatch Loss= 341.6285, Training Accuracy= 0.961\n",
      "Step 460, Minibatch Loss= 753.3551, Training Accuracy= 0.922\n",
      "Step 470, Minibatch Loss= 492.1851, Training Accuracy= 0.922\n",
      "Step 480, Minibatch Loss= 139.8074, Training Accuracy= 0.977\n",
      "Step 490, Minibatch Loss= 1322.1320, Training Accuracy= 0.930\n",
      "Step 500, Minibatch Loss= 214.8141, Training Accuracy= 0.977\n",
      "Optimization Finished!\n",
      "Testing Accuracy: 0.96875\n"
     ]
    }
   ],
   "source": [
    "with tf.Session() as sess:\n",
    "    sess.run(init)\n",
    "    for step in range(1, num_steps+1):\n",
    "        batch_x, batch_y = mnist.train.next_batch(batch_size)\n",
    "        sess.run(train_op, feed_dict={X:batch_x, Y:batch_y, keep_prob:dropout})\n",
    "        if step % display_step == 0 or step==1:\n",
    "            loss, acc = sess.run([loss_op, accuracy], feed_dict={X:batch_x, Y:batch_y, keep_prob:1.0})\n",
    "            print('Step ' + str(step) + ', Minibatch Loss= ' + \\\n",
    "                 \"{:.4f}\".format(loss) + ', Training Accuracy= ' + \\\n",
    "                 \"{:.3f}\".format(acc))\n",
    "    print(\"Optimization Finished!\")\n",
    "    print(\"Testing Accuracy:\", \\\n",
    "         sess.run(accuracy, feed_dict={X:mnist.test.images[:256], Y:mnist.test.labels[:256], keep_prob:1.0}))"
   ]
  }
 ],
 "metadata": {
  "kernelspec": {
   "display_name": "Python 3",
   "language": "python",
   "name": "python3"
  },
  "language_info": {
   "codemirror_mode": {
    "name": "ipython",
    "version": 3
   },
   "file_extension": ".py",
   "mimetype": "text/x-python",
   "name": "python",
   "nbconvert_exporter": "python",
   "pygments_lexer": "ipython3",
   "version": "3.5.2"
  }
 },
 "nbformat": 4,
 "nbformat_minor": 2
}
