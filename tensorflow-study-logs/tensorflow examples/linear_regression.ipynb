{
 "cells": [
  {
   "cell_type": "markdown",
   "metadata": {},
   "source": [
    "### Linear Regression Example"
   ]
  },
  {
   "cell_type": "code",
   "execution_count": 1,
   "metadata": {},
   "outputs": [],
   "source": [
    "import tensorflow as tf\n",
    "import os\n",
    "os.environ[\"CUDA_VISIBLE_DEVICES\"] = \"0\""
   ]
  },
  {
   "cell_type": "code",
   "execution_count": 5,
   "metadata": {},
   "outputs": [],
   "source": [
    "import numpy\n",
    "import tensorflow as tf\n",
    "import matplotlib.pyplot as plt\n",
    "rng = numpy.random"
   ]
  },
  {
   "cell_type": "code",
   "execution_count": 15,
   "metadata": {},
   "outputs": [],
   "source": [
    "learnin_rate = 0.01\n",
    "training_epochs = 1000\n",
    "display_step = 50"
   ]
  },
  {
   "cell_type": "code",
   "execution_count": 9,
   "metadata": {},
   "outputs": [],
   "source": [
    "train_X = numpy.asarray([3.3,4.4,5.5,6.71,6.93,4.168,9.779,6.182,7.59,2.167,\n",
    "                         7.042,10.791,5.313,7.997,5.654,9.27,3.1])\n",
    "train_Y = numpy.asarray([1.7,2.76,2.09,3.19,1.694,1.573,3.366,2.596,2.53,1.221,\n",
    "                         2.827,3.465,1.65,2.904,2.42,2.94,1.3])\n",
    "n_samples = train_X.shape[0]"
   ]
  },
  {
   "cell_type": "code",
   "execution_count": 11,
   "metadata": {},
   "outputs": [],
   "source": [
    "X = tf.placeholder('float')\n",
    "Y = tf.placeholder('float')\n",
    "\n",
    "W = tf.Variable(rng.randn(), name='weight')\n",
    "b = tf.Variable(rng.randn(), name='bias')"
   ]
  },
  {
   "cell_type": "code",
   "execution_count": 12,
   "metadata": {},
   "outputs": [],
   "source": [
    "pred = tf.add(tf.multiply(X, W), b)"
   ]
  },
  {
   "cell_type": "code",
   "execution_count": 13,
   "metadata": {},
   "outputs": [],
   "source": [
    "cost = tf.reduce_sum(tf.pow(pred-Y, 2)) / (2*n_samples)\n",
    "optimizer = tf.train.GradientDescentOptimizer(learnin_rate).minimize(cost)"
   ]
  },
  {
   "cell_type": "code",
   "execution_count": 14,
   "metadata": {},
   "outputs": [],
   "source": [
    "init = tf.global_variables_initializer()"
   ]
  },
  {
   "cell_type": "code",
   "execution_count": 17,
   "metadata": {},
   "outputs": [
    {
     "name": "stdout",
     "output_type": "stream",
     "text": [
      "Epoch: 0050 cost= 0.236406669 W= 0.47280124 b= -0.8042733\n",
      "Epoch: 0100 cost= 0.217989564 W= 0.45952603 b= -0.70877254\n",
      "Epoch: 0150 cost= 0.201699033 W= 0.44704038 b= -0.61895156\n",
      "Epoch: 0200 cost= 0.187289655 W= 0.4352972 b= -0.5344722\n",
      "Epoch: 0250 cost= 0.174544275 W= 0.42425257 b= -0.45501733\n",
      "Epoch: 0300 cost= 0.163270831 W= 0.41386476 b= -0.38028845\n",
      "Epoch: 0350 cost= 0.153299361 W= 0.4040948 b= -0.3100039\n",
      "Epoch: 0400 cost= 0.144479528 W= 0.39490584 b= -0.2438995\n",
      "Epoch: 0450 cost= 0.136678353 W= 0.38626337 b= -0.18172663\n",
      "Epoch: 0500 cost= 0.129778266 W= 0.37813506 b= -0.12325149\n",
      "Epoch: 0550 cost= 0.123675264 W= 0.37049 b= -0.06825423\n",
      "Epoch: 0600 cost= 0.118277185 W= 0.3632998 b= -0.016527783\n",
      "Epoch: 0650 cost= 0.113502719 W= 0.35653722 b= 0.032122158\n",
      "Epoch: 0700 cost= 0.109279871 W= 0.3501767 b= 0.07787878\n",
      "Epoch: 0750 cost= 0.105544917 W= 0.3441945 b= 0.12091404\n",
      "Epoch: 0800 cost= 0.102241531 W= 0.33856815 b= 0.1613897\n",
      "Epoch: 0850 cost= 0.099319838 W= 0.33327645 b= 0.19945818\n",
      "Epoch: 0900 cost= 0.096735805 W= 0.32829943 b= 0.2352624\n",
      "Epoch: 0950 cost= 0.094450414 W= 0.32361835 b= 0.2689373\n",
      "Epoch: 1000 cost= 0.092429161 W= 0.3192158 b= 0.30060953\n",
      "Optimization Finished!\n",
      "training cost= 0.09242916 W= 0.3192158 b= 0.30060953\n"
     ]
    },
    {
     "data": {
      "image/png": "[encoded data removed]",
      "text/plain": [
       "<Figure size 432x288 with 1 Axes>"
      ]
     },
     "metadata": {},
     "output_type": "display_data"
    }
   ],
   "source": [
    "with tf.Session() as sess:\n",
    "    sess.run(init)\n",
    "    \n",
    "    for epoch in range(training_epochs):\n",
    "        for (x, y) in zip(train_X, train_Y):\n",
    "            sess.run(optimizer, feed_dict={X:x, Y:y})\n",
    "            \n",
    "        if (epoch+1) % display_step == 0:\n",
    "            c = sess.run(cost, feed_dict={X: train_X, Y:train_Y})\n",
    "            print(\"Epoch: %04d\" %(epoch+1), \"cost=\", \"{:.9f}\".format(c), \"W=\", sess.run(W), 'b=', sess.run(b))\n",
    "    \n",
    "    print(\"Optimization Finished!\")\n",
    "    training_cost = sess.run(cost, feed_dict={X:train_X, Y:train_Y})\n",
    "    print('training cost=', training_cost, \"W=\", sess.run(W), \"b=\", sess.run(b))\n",
    "    \n",
    "    plt.plot(train_X, train_Y, 'ro', label = 'Original data')\n",
    "    plt.plot(train_X, sess.run(W)* train_X + sess.run(b), label='Fitted line')\n",
    "    plt.legend()\n",
    "    plt.show()"
   ]
  }
 ],
 "metadata": {
  "kernelspec": {
   "display_name": "Python 3",
   "language": "python",
   "name": "python3"
  },
  "language_info": {
   "codemirror_mode": {
    "name": "ipython",
    "version": 3
   },
   "file_extension": ".py",
   "mimetype": "text/x-python",
   "name": "python",
   "nbconvert_exporter": "python",
   "pygments_lexer": "ipython3",
   "version": "3.5.2"
  }
 },
 "nbformat": 4,
 "nbformat_minor": 2
}
